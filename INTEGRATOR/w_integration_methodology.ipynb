{
 "cells": [
  {
   "cell_type": "markdown",
   "metadata": {
    "collapsed": true
   },
   "source": [
    "# Vertical Velocity Generation from Zonal/Meridional Current"
   ]
  },
  {
   "cell_type": "markdown",
   "metadata": {},
   "source": [
    "## Summary"
   ]
  },
  {
   "cell_type": "markdown",
   "metadata": {},
   "source": [
    "We wish to use the so-called \"Adjoint Method\" described in Luettich 2002 to calculate the vertical velocity $w(z)$ for a column of water.  To do so involves three steps:\n",
    "\n",
    "1. Calculate mass flux into each grid cell due to horizontal currents.\n",
    "2. Imposing a boundary condition of $w(h) = 0$, where $h$ is the depth of the seafloor, integrate the mass flux up the water column to arrive at mass flux through the top of each grid cell, which is converted into velocity.  This velocity result is the \"traditional\" velocity (as per Luettich 2002), $w_{trad}(z)$.\n",
    "3. Apply a correction to $w_{trad}(z)$ to satisfy the second boundary condition $w(z=0) = 0$."
   ]
  },
  {
   "cell_type": "markdown",
   "metadata": {},
   "source": [
    "### Step 1: Calculate Mass Flux into Grid Cells"
   ]
  },
  {
   "cell_type": "markdown",
   "metadata": {},
   "source": [
    "Consider a gaussian grid cell as a closed volume (see figure).  By continuity, the total mass flow through the six surfaces of this volume must equal zero."
   ]
  },
  {
   "cell_type": "markdown",
   "metadata": {},
   "source": [
    "![](ipynb_images/fig1.svg)"
   ]
  },
  {
   "cell_type": "markdown",
   "metadata": {},
   "source": [
    "By using $\\dot{m}$ to represent mass flux, with subscripts $n$ (north), $s$ (south), $e$ (east), $w$ (west), $t$ (top) and $b$ (bottom), this continuity can be expressed as follows:"
   ]
  },
  {
   "cell_type": "markdown",
   "metadata": {},
   "source": [
    "$\\dot{m}_w + \\dot{m}_s + \\dot{m}_b = \\dot{m}_e + \\dot{m}_n + \\dot{m}_t$"
   ]
  },
  {
   "cell_type": "markdown",
   "metadata": {},
   "source": [
    "Or colloqually, \"mass in = mass out\".  Rearranging, we have"
   ]
  },
  {
   "cell_type": "markdown",
   "metadata": {},
   "source": [
    "$ \\dot{m}_t - \\dot{m}_b = \\dot{m}_{horizontal} = (\\dot{m}_w - \\dot{m}_e) + (\\dot{m}_s - \\dot{m}_n)$ (1)"
   ]
  },
  {
   "cell_type": "markdown",
   "metadata": {},
   "source": [
    "Mass flux is defined as $\\dot{m} = \\rho v A$, where $\\rho$ is the density of the fluid passing through a surface, $v$ is the velocity of the fluid perpendicular to the surface, and $A$ is the the area of the surface.  Thus we can rewrite (1) as"
   ]
  },
  {
   "cell_type": "markdown",
   "metadata": {},
   "source": [
    "$ \\dot{m}_{horizontal} = (\\rho_w u_w A_w - \\rho_e u_e A_e) + (\\rho_s v_s A_s - \\rho_n v_n A_n)$"
   ]
  },
  {
   "cell_type": "markdown",
   "metadata": {},
   "source": [
    "Recognizing $A_w = A_e$, assuming density only changes with z, and approximating the average density along dz as the density at the cell center, $\\rho_{center} = \\rho_w = \\rho_e = \\rho_s = \\rho_n$, we have"
   ]
  },
  {
   "cell_type": "markdown",
   "metadata": {},
   "source": [
    "$ \\dot{m}_{horizontal} = \\rho_{center}[A_w (u_w - u_e) + (v_s A_s - v_n A_n)]$ (2)"
   ]
  },
  {
   "cell_type": "markdown",
   "metadata": {},
   "source": [
    "We can define $A_w = dy \\cdot dz$, $A_s = dx_s \\cdot dz$, $A_n = dx_n \\cdot dz$, and $\\rho_{center}$ is found emperically from a whole-ocean average vertical density profile."
   ]
  },
  {
   "cell_type": "markdown",
   "metadata": {},
   "source": [
    "Velocities are trickier.  We know velocity at the center of each grid cell.  But the velocities in equation (2) are defined at the grid cell boundary surfaces.  We can estimate these through a linear interpolation, taking the velocity at a surface to be the velocity at the center of the surface.  Consider the following 3x3 grid, centered on the grid cell we're concerned with (cell 0):"
   ]
  },
  {
   "cell_type": "markdown",
   "metadata": {},
   "source": [
    "![title](ipynb_images/fig2.svg)"
   ]
  },
  {
   "cell_type": "markdown",
   "metadata": {},
   "source": [
    "Every point along the boundary between cells 0 and 1 (for example) is equidistant from the centers of cells 0 and 1.  Thus, it is sensible to define the velocity everywhere along this (western) boundary as the mean of the velocity of the two cells, $\\mathbf{V_w} = (\\mathbf{V}_0 + \\mathbf{V}_1)/2$; this is a linear interpolation.  In this way, we define $u_w, u_e, v_s,$ and $v_n$."
   ]
  },
  {
   "cell_type": "markdown",
   "metadata": {},
   "source": [
    "Since we have defined all the quantities in (2), we can thus use (2) to calculate the horizontal mass flux into every grid cell of the column."
   ]
  },
  {
   "cell_type": "markdown",
   "source": [
    "### Step 2: integrate mass flux upwards, convert to $w$"
   ],
   "metadata": {
    "collapsed": false
   }
  },
  {
   "cell_type": "markdown",
   "source": [
    "We can rearrange eq. (1) to find\n",
    "$\\dot{m}_t = \\dot{m}_b + \\dot{m}_{horizontal}$ (3)"
   ],
   "metadata": {
    "collapsed": false
   }
  },
  {
   "cell_type": "markdown",
   "source": [
    "From step 1, we know $\\dot{m}_{horizontal}$ for every grid cell.  For the very bottom cell, we know $\\dot{m}_b = 0$ due to our boundary condition $w(h) = 0$.  Thusly we can calculate $\\dot{m}_t$ for the first grid cell according to equation 3, thus defining $\\dot{m}_t$ for the cell above; proceeding this way upwards we can calculate $\\dot{m_t}$ for the whole column."
   ],
   "metadata": {
    "collapsed": false
   }
  },
  {
   "cell_type": "markdown",
   "source": [
    "Finally we can use our definition of mass flux to find $w_t = \\frac{\\dot{m}_t}{\\rho_t A_t}$, and thus have arrived at $w_{trad}(z)$."
   ],
   "metadata": {
    "collapsed": false
   }
  },
  {
   "cell_type": "markdown",
   "source": [
    "### Step 3: Apply correction to satisfy surface boundary condition"
   ],
   "metadata": {
    "collapsed": false
   }
  },
  {
   "cell_type": "markdown",
   "source": [
    "The nature of daisy-chaining the calculation of each $w_t$ on the previous one means that any systematic errors will grow as we proceed up the water column.  Fortunately, we know that at the surface, $w_t = 0$.  Thus we can use the \"adjoint method\" from Luettich 2002 to modify the profile such that the boundary conditions are met.  The \"adjoint method\" allows you to trade-off "
   ],
   "metadata": {
    "collapsed": false
   }
  },
  {
   "cell_type": "markdown",
   "metadata": {},
   "source": []
  },
  {
   "cell_type": "markdown",
   "metadata": {},
   "source": [
    "We can rearrange eq. (1) to find\n",
    "$\\dot{m}_t = \\dot{m}_b + \\dot{m}_{horizontal}$ (3)"
   ]
  },
  {
   "cell_type": "markdown",
   "metadata": {},
   "source": [
    "From step 1, we know $\\dot{m}_{horizontal}$ for every grid cell.  For the very bottom cell, we know $\\dot{m}_b = 0$ due to our boundary condition $w(h) = 0$.  Thusly we can calculate $\\dot{m}_t$ for the first grid cell according to equation 3, thus defining $\\dot{m}_t$ for the cell above; proceeding this way upwards we can calculate $\\dot{m_t}$ for the whole column."
   ]
  },
  {
   "cell_type": "markdown",
   "metadata": {},
   "source": [
    "Finally we can use our definition of mass flux to find $w_t = \\frac{\\dot{m}_t}{\\rho_t A_t}$, and thus have arrived at $w_{trad}(z)$."
   ]
  },
  {
   "cell_type": "markdown",
   "metadata": {},
   "source": [
    "### Step 3: Apply correction to satisfy surface boundary condition"
   ]
  },
  {
   "cell_type": "markdown",
   "metadata": {},
   "source": [
    "The nature of daisy-chaining the calculation of each $w_t$ on the previous one means that any systematic errors will grow as we proceed up the water column.  Fortunately, we know that at the surface, $w_t = 0$.  Thus we can use the \"adjoint method\" from Luettich 2002 to modify the profile such that the boundary conditions are met.  The \"adjoint method\" allows you to trade-off "
   ]
  },
  {
   "cell_type": "code",
   "execution_count": null,
   "metadata": {},
   "outputs": [],
   "source": []
  }
 ],
 "metadata": {
  "kernelspec": {
   "display_name": "Python 3",
   "language": "python",
   "name": "python3"
  },
  "language_info": {
   "codemirror_mode": {
    "name": "ipython",
    "version": 3
   },
   "file_extension": ".py",
   "mimetype": "text/x-python",
   "name": "python",
   "nbconvert_exporter": "python",
   "pygments_lexer": "ipython3",
   "version": "3.9.0"
  }
 },
 "nbformat": 4,
 "nbformat_minor": 1
}